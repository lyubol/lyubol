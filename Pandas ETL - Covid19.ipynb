{
 "cells": [
  {
   "cell_type": "markdown",
   "id": "c57cdb85",
   "metadata": {},
   "source": [
    "## Imports"
   ]
  },
  {
   "cell_type": "code",
   "execution_count": null,
   "id": "34f775db",
   "metadata": {},
   "outputs": [],
   "source": [
    "import requests\n",
    "import pandas as pd\n",
    "import numpy as np\n",
    "import pyodbc "
   ]
  },
  {
   "cell_type": "markdown",
   "id": "9f1faf71",
   "metadata": {},
   "source": [
    "## Configurations"
   ]
  },
  {
   "cell_type": "code",
   "execution_count": null,
   "id": "135af60b",
   "metadata": {},
   "outputs": [],
   "source": [
    "server = 'lirkovsrv.database.windows.net'\n",
    "database = 'lirkovdb'\n",
    "username = '{username}'\n",
    "password = '{password}'   \n",
    "driver= '{ODBC Driver 17 for SQL Server}'"
   ]
  },
  {
   "cell_type": "markdown",
   "id": "aecfd75d",
   "metadata": {},
   "source": [
    "## Functions"
   ]
  },
  {
   "cell_type": "code",
   "execution_count": null,
   "id": "45b4c976",
   "metadata": {},
   "outputs": [],
   "source": [
    "#https://covid19.who.int/WHO-COVID-19-global-data.csv\n",
    "\n",
    "# Data extraction functions\n",
    "\n",
    "def downloadFile(filename, download_url):\n",
    "    req = requests.get(download_url)\n",
    "    with open(filename, 'wb') as file:\n",
    "        file.write(req.content) "
   ]
  },
  {
   "cell_type": "code",
   "execution_count": null,
   "id": "fc75a897",
   "metadata": {},
   "outputs": [],
   "source": [
    "# Data transformation functions\n",
    "\n",
    "# clean column names\n",
    "def fixColumnNames(input_df):\n",
    "    columns = []\n",
    "    for column in input_df.columns:\n",
    "        column = column.title()\n",
    "        column = column.replace(\" \" , \"\")\n",
    "        column = column.replace(\"_\" , \"\")\n",
    "        column = column.replace(\",\" , \"\")\n",
    "        column = column.replace(\";\" , \"\")\n",
    "        column = column.replace(\"{\" , \"\")\n",
    "        column = column.replace(\"}\" , \"\")  \n",
    "        column = column.replace(\"(\" , \"\")\n",
    "        column = column.replace(\")\" , \"\")\n",
    "        column = column.replace(\"\\t\", \"\")\n",
    "        column = column.replace(\"=\" , \"\")\n",
    "        columns.append(column)\n",
    "    return columns\n",
    "\n",
    "# check the max length of each column\n",
    "def checkColumnLen(input_df):\n",
    "    length_dict = {}\n",
    "    for column in input_df.columns:\n",
    "        length_dict[column] = [max(input_df[column].astype(str).apply(len)), min(input_df[column].astype(str).apply(len))]\n",
    "    return length_dict\n",
    "\n",
    "def changeDataType(input_df, column, data_type):\n",
    "    input_df[column] = input_df[column].astype(data_type)"
   ]
  },
  {
   "cell_type": "markdown",
   "id": "ce505afc",
   "metadata": {},
   "source": [
    "## Extract"
   ]
  },
  {
   "cell_type": "code",
   "execution_count": null,
   "id": "ac797b05",
   "metadata": {},
   "outputs": [],
   "source": [
    "#downloadFile('WHO-COVID-19-global-data.csv','https://covid19.who.int/WHO-COVID-19-global-data.csv')"
   ]
  },
  {
   "cell_type": "markdown",
   "id": "3459c587",
   "metadata": {},
   "source": [
    "## Transform"
   ]
  },
  {
   "cell_type": "code",
   "execution_count": null,
   "id": "b7782d66",
   "metadata": {},
   "outputs": [],
   "source": [
    "# create DataFrame\n",
    "\n",
    "df = pd.read_csv('WHO-COVID-19-global-data.csv')"
   ]
  },
  {
   "cell_type": "code",
   "execution_count": null,
   "id": "08fa197d",
   "metadata": {},
   "outputs": [],
   "source": [
    "# clean column names\n",
    "\n",
    "df.columns = fixColumnNames(df)"
   ]
  },
  {
   "cell_type": "code",
   "execution_count": null,
   "id": "7ecbc82a",
   "metadata": {},
   "outputs": [],
   "source": [
    "# change data types\n",
    "\n",
    "changeDataType(df, 'DateReported', 'datetime64')"
   ]
  },
  {
   "cell_type": "code",
   "execution_count": null,
   "id": "d392458b",
   "metadata": {},
   "outputs": [],
   "source": [
    "# check if any 'CountryCode' is missing\n",
    "df['Country'].loc[df['CountryCode'].isna()].value_counts()\n",
    "\n",
    "# add Namibia's short code\n",
    "df.loc[df['Country'] == 'Namibia', 'CountryCode'] = 'NA'"
   ]
  },
  {
   "cell_type": "code",
   "execution_count": null,
   "id": "8a9b4b62",
   "metadata": {},
   "outputs": [],
   "source": [
    "# create 'Key' column by concatenating 'CountryCode' and 'DateReported'\n",
    "\n",
    "df['Key'] = df['CountryCode'] + df['DateReported'].astype(str).str.replace('-','')"
   ]
  },
  {
   "cell_type": "code",
   "execution_count": null,
   "id": "d25d215b",
   "metadata": {},
   "outputs": [],
   "source": [
    "# set 'Key' as an index and ensure that there are no duplicates\n",
    "\n",
    "# df.set_index('Key', inplace=True, verify_integrity=True)"
   ]
  },
  {
   "cell_type": "code",
   "execution_count": null,
   "id": "01090aa8",
   "metadata": {},
   "outputs": [],
   "source": [
    "# test\n",
    "\n",
    "df_test = df.head(1000)"
   ]
  },
  {
   "cell_type": "markdown",
   "id": "8214744d",
   "metadata": {},
   "source": [
    "## Load"
   ]
  },
  {
   "cell_type": "code",
   "execution_count": null,
   "id": "0fd05ded",
   "metadata": {},
   "outputs": [],
   "source": [
    "conn =  pyodbc.connect('DRIVER='+driver+';SERVER=tcp:'+server+';PORT=1433;DATABASE='+database+';UID='+username+';PWD='+ password)\n",
    "cursor = conn.cursor()\n",
    "\n",
    "\n",
    "\n",
    "for index, row in df_test.iterrows():\n",
    "     cursor.execute(\"INSERT INTO dbo.WHO_Covid19 (DateReported, CountryCode, WhoRegion, NewCases, CumulativeCases, NewDeaths, CumulativeDeaths) values(?,?,?,?,?,?,?)\", row.DateReported, row.CountryCode, row.WhoRegion, row.NewCases, row.CumulativeCases, row.NewDeaths, row.CumulativeDeaths)\n",
    "conn.commit()\n",
    "cursor.close()"
   ]
  }
 ],
 "metadata": {
  "kernelspec": {
   "display_name": "Python 3",
   "language": "python",
   "name": "python3"
  },
  "language_info": {
   "codemirror_mode": {
    "name": "ipython",
    "version": 3
   },
   "file_extension": ".py",
   "mimetype": "text/x-python",
   "name": "python",
   "nbconvert_exporter": "python",
   "pygments_lexer": "ipython3",
   "version": "3.8.5"
  }
 },
 "nbformat": 4,
 "nbformat_minor": 5
}
